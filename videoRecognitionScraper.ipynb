{
 "cells": [
  {
   "cell_type": "code",
   "execution_count": null,
   "metadata": {},
   "outputs": [],
   "source": [
    "pip install selenium"
   ]
  },
  {
   "cell_type": "code",
   "execution_count": null,
   "metadata": {},
   "outputs": [],
   "source": []
  },
  {
   "cell_type": "code",
   "execution_count": 2,
   "metadata": {},
   "outputs": [],
   "source": [
    "from selenium import webdriver\n",
    "from selenium.webdriver.common.by import By\n",
    "from selenium.webdriver.chrome.service import Service\n",
    "from selenium.webdriver.chrome.options import Options\n",
    "\n",
    "# Configura Selenium con Chrome\n",
    "chrome_options = Options()\n",
    "chrome_options.add_argument(\"--headless\")  # Ejecuta en modo headless (sin interfaz gráfica)\n",
    "service = Service(\"path\")\n",
    " # Especifica la ruta al ChromeDriver\n",
    "driver = webdriver.Chrome(service=service, options=chrome_options)\n"
   ]
  },
  {
   "cell_type": "code",
   "execution_count": null,
   "metadata": {},
   "outputs": [],
   "source": [
    "pip install webdriver-manager"
   ]
  },
  {
   "cell_type": "code",
   "execution_count": 4,
   "metadata": {},
   "outputs": [
    {
     "name": "stdout",
     "output_type": "stream",
     "text": [
      "Botón 'I Accept' ha sido presionado.\n",
      "Botón 'Show more items...' ha sido presionado.\n",
      "Botón 'Show more items...' ha sido presionado.\n",
      "Botón 'Show more items...' ha sido presionado.\n",
      "Archivo file_part_1.txt guardado.\n",
      "Archivo file_part_2.txt guardado.\n",
      "Archivo file_part_3.txt guardado.\n",
      "Archivo file_part_4.txt guardado.\n"
     ]
    }
   ],
   "source": [
    "from selenium import webdriver\n",
    "from selenium.webdriver.chrome.service import Service\n",
    "from selenium.webdriver.common.by import By\n",
    "from selenium.webdriver.support.ui import WebDriverWait\n",
    "from selenium.webdriver.support import expected_conditions as EC\n",
    "from webdriver_manager.chrome import ChromeDriverManager\n",
    "import time\n",
    "\n",
    "# Configuración del WebDriver\n",
    "service = Service(executable_path='path')  # Cambia la ruta a tu chromedriver\n",
    "\n",
    "# Inicializar el WebDriver de Chrome\n",
    "driver = webdriver.Chrome(service=service)\n",
    "\n",
    "# URL de la página a scrapear\n",
    "url = \"https://data.kitware.com/#collection/56f56db28d777f753209ba9f/folder/56f581ce8d777f753209ca43\"\n",
    "\n",
    "# Cargar la página\n",
    "driver.get(url)\n",
    "\n",
    "# Esperar hasta que el botón \"I Accept\" sea visible y luego hacer clic en él\n",
    "try:\n",
    "    accept_button = WebDriverWait(driver, 20).until(\n",
    "        EC.element_to_be_clickable((By.ID, \"g-terms-accept\"))\n",
    "    )\n",
    "    accept_button.click()\n",
    "    print(\"Botón 'I Accept' ha sido presionado.\")\n",
    "except Exception as e:\n",
    "    print(f\"Error al intentar presionar el botón 'I Accept': {e}\")\n",
    "\n",
    "# Función para hacer clic en \"Show more items...\"\n",
    "def click_show_more():\n",
    "    try:\n",
    "        # Esperar hasta que el botón 'Show more items' sea clickeable\n",
    "        show_more_button = WebDriverWait(driver, 20).until(\n",
    "            EC.element_to_be_clickable((By.CLASS_NAME, \"g-show-more-items\"))\n",
    "        )\n",
    "        show_more_button.click()\n",
    "        print(\"Botón 'Show more items...' ha sido presionado.\")\n",
    "        time.sleep(2)  # Esperar a que los nuevos elementos se carguen\n",
    "    except Exception as e:\n",
    "        print(f\"Error al intentar presionar el botón 'Show more items': {e}\")\n",
    "\n",
    "# Hacer clic tres veces en el botón \"Show more items...\"\n",
    "for _ in range(3):\n",
    "    click_show_more()\n",
    "\n",
    "# Esperar hasta que los elementos estén disponibles después de hacer clic tres veces\n",
    "try:\n",
    "    # Intentar obtener los elementos de la lista\n",
    "    items = WebDriverWait(driver, 20).until(\n",
    "        EC.presence_of_all_elements_located((By.CLASS_NAME, \"g-item-list-entry\"))\n",
    "    )\n",
    "\n",
    "    # Lista para almacenar los datos\n",
    "    data = []\n",
    "\n",
    "    # Extraer el nombre y el enlace de descarga\n",
    "    for item in items:\n",
    "        try:\n",
    "            # Buscar el nombre del archivo\n",
    "            name_element = item.find_element(By.CLASS_NAME, \"g-item-list-link\")\n",
    "            file_name = name_element.text.strip().replace('.mp4', '')\n",
    "            \n",
    "            # Buscar el enlace de descarga\n",
    "            download_element = item.find_element(By.XPATH, './/a[@title=\"Download item\"]')\n",
    "            download_href = download_element.get_attribute(\"href\")\n",
    "            \n",
    "            # Agregar el nombre y enlace a la lista\n",
    "            data.append(f\"{file_name},{download_href}\")\n",
    "        except Exception as e:\n",
    "            print(f\"Error al extraer los datos del elemento: {e}\")\n",
    "    \n",
    "except Exception as e:\n",
    "    print(f\"Error al obtener los elementos: {e}\")\n",
    "\n",
    "# Dividir los datos en cuatro grupos: los primeros 100, los siguientes 100, etc.\n",
    "# Crear 4 archivos de texto\n",
    "groups = [data[:100], data[100:200], data[200:300], data[300:]]\n",
    "\n",
    "# Guardar en 4 archivos de texto\n",
    "file_names = ['file_part_1.txt', 'file_part_2.txt', 'file_part_3.txt', 'file_part_4.txt']\n",
    "for i, group in enumerate(groups):\n",
    "    with open(file_names[i], 'w', encoding='utf-8') as file:\n",
    "        for line in group:\n",
    "            file.write(line + \"\\n\")\n",
    "    print(f\"Archivo {file_names[i]} guardado.\")\n",
    "\n",
    "# Esperar algunos segundos más para verificar si hay algún contenido cargado después\n",
    "time.sleep(5)\n",
    "\n",
    "# Cerrar el navegador\n",
    "driver.quit()\n"
   ]
  }
 ],
 "metadata": {
  "kernelspec": {
   "display_name": "Python 3",
   "language": "python",
   "name": "python3"
  },
  "language_info": {
   "codemirror_mode": {
    "name": "ipython",
    "version": 3
   },
   "file_extension": ".py",
   "mimetype": "text/x-python",
   "name": "python",
   "nbconvert_exporter": "python",
   "pygments_lexer": "ipython3",
   "version": "3.11.2"
  }
 },
 "nbformat": 4,
 "nbformat_minor": 2
}
